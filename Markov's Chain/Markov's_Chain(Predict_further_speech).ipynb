{
  "nbformat": 4,
  "nbformat_minor": 0,
  "metadata": {
    "colab": {
      "name": "Markov's Chain(Predict further speech.ipynb",
      "provenance": [],
      "authorship_tag": "ABX9TyNDnZQsBOtIOj8T07sp+zHp",
      "include_colab_link": true
    },
    "kernelspec": {
      "name": "python3",
      "display_name": "Python 3"
    }
  },
  "cells": [
    {
      "cell_type": "markdown",
      "metadata": {
        "id": "view-in-github",
        "colab_type": "text"
      },
      "source": [
        "<a href=\"https://colab.research.google.com/github/legendarygirl56/Data-science/blob/master/Markov's%20Chain/Markov's_Chain(Predict_further_speech).ipynb\" target=\"_parent\"><img src=\"https://colab.research.google.com/assets/colab-badge.svg\" alt=\"Open In Colab\"/></a>"
      ]
    },
    {
      "cell_type": "code",
      "metadata": {
        "id": "3tcySEqjZMtJ",
        "colab_type": "code",
        "colab": {}
      },
      "source": [
        "url=\"https://cb.lk/speech\""
      ],
      "execution_count": 0,
      "outputs": []
    },
    {
      "cell_type": "code",
      "metadata": {
        "id": "clPPKLgSZUDU",
        "colab_type": "code",
        "colab": {}
      },
      "source": [
        "import requests"
      ],
      "execution_count": 0,
      "outputs": []
    },
    {
      "cell_type": "code",
      "metadata": {
        "id": "vGjz5s2MZXt-",
        "colab_type": "code",
        "colab": {}
      },
      "source": [
        "data= requests.get(url)"
      ],
      "execution_count": 0,
      "outputs": []
    },
    {
      "cell_type": "code",
      "metadata": {
        "id": "DCexChgIZhD0",
        "colab_type": "code",
        "colab": {}
      },
      "source": [
        "text=data.text"
      ],
      "execution_count": 0,
      "outputs": []
    },
    {
      "cell_type": "code",
      "metadata": {
        "id": "Zbh8uX52ZlHH",
        "colab_type": "code",
        "colab": {
          "base_uri": "https://localhost:8080/",
          "height": 34
        },
        "outputId": "d900f29f-fce5-4e6e-b1e6-38a5851c1f36"
      },
      "source": [
        "len(text)"
      ],
      "execution_count": 5,
      "outputs": [
        {
          "output_type": "execute_result",
          "data": {
            "text/plain": [
              "1725021"
            ]
          },
          "metadata": {
            "tags": []
          },
          "execution_count": 5
        }
      ]
    },
    {
      "cell_type": "code",
      "metadata": {
        "id": "gDqthrKMZn-j",
        "colab_type": "code",
        "colab": {
          "base_uri": "https://localhost:8080/",
          "height": 173
        },
        "outputId": "9a824e84-0635-4252-954b-e547b94b047b"
      },
      "source": [
        "print(text[:1000])"
      ],
      "execution_count": 6,
      "outputs": [
        {
          "output_type": "stream",
          "text": [
            "26 8 2016, India\n",
            "Niti Aayog\n",
            "There was a time when development was believed to depend on the quantity of capital and labour. Today we know that it depends as much on the quality of institutions and ideas. Early last year, a new institution was created, namely, the National Institution for Transforming India or NITI. NITI was created as an evidence based think tank to guide India’s transformation.\n",
            "One of NITI’s functions is:\n",
            "- to mainstream external ideas into Government policies, through collaboration with national and international experts;\n",
            "- to be the Government’s link to the outside world, outside experts and practitioners;\n",
            "- to be the instrument through which ideas from outside are incorporated into policy-making.\n",
            "The Government of India and the State Governments have a long administrative tradition. This tradition combines indigenous and external ideas from India’s past. This administrative tradition has served India well in many ways. Above all, it has preserved democracy and fede\n"
          ],
          "name": "stdout"
        }
      ]
    },
    {
      "cell_type": "code",
      "metadata": {
        "id": "YxF7d00kZrn1",
        "colab_type": "code",
        "colab": {}
      },
      "source": [
        "cut=text[1000:1500]"
      ],
      "execution_count": 0,
      "outputs": []
    },
    {
      "cell_type": "code",
      "metadata": {
        "id": "gnJ-_7d8aJt8",
        "colab_type": "code",
        "colab": {
          "base_uri": "https://localhost:8080/",
          "height": 71
        },
        "outputId": "1a25dd08-b60e-4615-e9da-2244a75ec770"
      },
      "source": [
        "print(cut)"
      ],
      "execution_count": 9,
      "outputs": [
        {
          "output_type": "stream",
          "text": [
            "ralism, unity and integrity, in a country of glorious diversity. These are not small achievements. Yet, we now live in an age where change is constant and we are variables.\n",
            "We must change for both external and internal reasons. Each country has its own experiences, its own resources and its own strengths. Thirty years ago, a country might have been able to look inward and find its own solutions. Today, countries are inter dependent and inter connected. No country can afford any longer to develop\n"
          ],
          "name": "stdout"
        }
      ]
    },
    {
      "cell_type": "code",
      "metadata": {
        "id": "JxliamJoaNo5",
        "colab_type": "code",
        "colab": {}
      },
      "source": [
        "k=9"
      ],
      "execution_count": 0,
      "outputs": []
    },
    {
      "cell_type": "code",
      "metadata": {
        "id": "jOZcYheGaSNC",
        "colab_type": "code",
        "colab": {}
      },
      "source": [
        "probabs={}\n",
        "for i in range(k, len(text)):\n",
        "  present=text[i-k:i]\n",
        "  future=text[i]\n",
        "\n",
        "  if present not in probabs:\n",
        "    probabs[present]={}\n",
        "\n",
        "  if future not in probabs[present]:\n",
        "    probabs[present][future]=0\n",
        "\n",
        "  probabs[present][future]+=1\n"
      ],
      "execution_count": 0,
      "outputs": []
    },
    {
      "cell_type": "code",
      "metadata": {
        "id": "_ZXVfLUjb__s",
        "colab_type": "code",
        "colab": {}
      },
      "source": [
        "#probabs\n",
        "start_loc=random.randint(1000,2000)"
      ],
      "execution_count": 0,
      "outputs": []
    },
    {
      "cell_type": "code",
      "metadata": {
        "id": "yTkPGKW7dpnV",
        "colab_type": "code",
        "colab": {}
      },
      "source": [
        "seed = text[start_loc:start_loc+30]"
      ],
      "execution_count": 0,
      "outputs": []
    },
    {
      "cell_type": "code",
      "metadata": {
        "id": "EWKXVTu3iREl",
        "colab_type": "code",
        "colab": {
          "base_uri": "https://localhost:8080/",
          "height": 34
        },
        "outputId": "628572a1-89b4-4170-a727-8c8e89ae83e3"
      },
      "source": [
        "print(seed)"
      ],
      "execution_count": 100,
      "outputs": [
        {
          "output_type": "stream",
          "text": [
            " and integrity, in a country o\n"
          ],
          "name": "stdout"
        }
      ]
    },
    {
      "cell_type": "code",
      "metadata": {
        "id": "zy8ydiNWeWfD",
        "colab_type": "code",
        "colab": {}
      },
      "source": [
        "present = seed[-k:]"
      ],
      "execution_count": 0,
      "outputs": []
    },
    {
      "cell_type": "code",
      "metadata": {
        "id": "7ch8lG6gfS6y",
        "colab_type": "code",
        "colab": {
          "base_uri": "https://localhost:8080/",
          "height": 34
        },
        "outputId": "758d6e3a-ed9e-4765-93c4-38430c2d5f38"
      },
      "source": [
        "present"
      ],
      "execution_count": 84,
      "outputs": [
        {
          "output_type": "execute_result",
          "data": {
            "text/plain": [
              "' external'"
            ]
          },
          "metadata": {
            "tags": []
          },
          "execution_count": 84
        }
      ]
    },
    {
      "cell_type": "code",
      "metadata": {
        "id": "5vfFoxggeeU3",
        "colab_type": "code",
        "colab": {}
      },
      "source": [
        "possib = probabs[present] #chances of next word after ternal are shown"
      ],
      "execution_count": 0,
      "outputs": []
    },
    {
      "cell_type": "code",
      "metadata": {
        "id": "7-2ZCqMifMlt",
        "colab_type": "code",
        "colab": {}
      },
      "source": [
        "top_items=2"
      ],
      "execution_count": 0,
      "outputs": []
    },
    {
      "cell_type": "code",
      "metadata": {
        "id": "QFUi3Nfzfmf8",
        "colab_type": "code",
        "colab": {}
      },
      "source": [
        "top=sorted(possib.items(), key=lambda item: item[1])[-top_items:]"
      ],
      "execution_count": 0,
      "outputs": []
    },
    {
      "cell_type": "code",
      "metadata": {
        "id": "KrcEHK8bgUKL",
        "colab_type": "code",
        "colab": {
          "base_uri": "https://localhost:8080/",
          "height": 34
        },
        "outputId": "250123f0-0193-4ee7-c266-053af45c29b3"
      },
      "source": [
        "top"
      ],
      "execution_count": 88,
      "outputs": [
        {
          "output_type": "execute_result",
          "data": {
            "text/plain": [
              "[('l', 2), (' ', 8)]"
            ]
          },
          "metadata": {
            "tags": []
          },
          "execution_count": 88
        }
      ]
    },
    {
      "cell_type": "code",
      "metadata": {
        "id": "fsmN4ZVhhS3i",
        "colab_type": "code",
        "colab": {}
      },
      "source": [
        "import random"
      ],
      "execution_count": 0,
      "outputs": []
    },
    {
      "cell_type": "code",
      "metadata": {
        "id": "zd25jm6Bgr-J",
        "colab_type": "code",
        "colab": {}
      },
      "source": [
        "future = random.choice(top)[0]"
      ],
      "execution_count": 0,
      "outputs": []
    },
    {
      "cell_type": "code",
      "metadata": {
        "id": "UF3ZU9YIhidW",
        "colab_type": "code",
        "colab": {
          "base_uri": "https://localhost:8080/",
          "height": 34
        },
        "outputId": "59f97e4f-206e-43d3-a6dc-1016a8e7ef68"
      },
      "source": [
        "future"
      ],
      "execution_count": 91,
      "outputs": [
        {
          "output_type": "execute_result",
          "data": {
            "text/plain": [
              "'l'"
            ]
          },
          "metadata": {
            "tags": []
          },
          "execution_count": 91
        }
      ]
    },
    {
      "cell_type": "code",
      "metadata": {
        "id": "kgR-SgXmjU4W",
        "colab_type": "code",
        "colab": {}
      },
      "source": [
        "seed =seed+future"
      ],
      "execution_count": 0,
      "outputs": []
    },
    {
      "cell_type": "code",
      "metadata": {
        "id": "7a6MQTV6h9Co",
        "colab_type": "code",
        "colab": {
          "base_uri": "https://localhost:8080/",
          "height": 34
        },
        "outputId": "a7bce937-c1fc-4432-adb9-3a2c83bfc0bd"
      },
      "source": [
        "print(seed) # go to the top of print(seed) and run code again "
      ],
      "execution_count": 93,
      "outputs": [
        {
          "output_type": "stream",
          "text": [
            "We must change for both externall\n"
          ],
          "name": "stdout"
        }
      ]
    },
    {
      "cell_type": "code",
      "metadata": {
        "id": "iUUxBsUxiM7y",
        "colab_type": "code",
        "colab": {}
      },
      "source": [
        "for i in range(500):\n",
        "  present = seed[-k:]\n",
        "  present\n",
        "  possib = probabs[present]\n",
        "  top_items=2\n",
        "  top=sorted(possib.items(), key=lambda item: item[1])[-top_items:]\n",
        "  top\n",
        "  future = random.choice(top)[0]\n",
        "  future\n",
        "  seed=seed+future"
      ],
      "execution_count": 0,
      "outputs": []
    },
    {
      "cell_type": "code",
      "metadata": {
        "id": "aCQFHO7xlCCn",
        "colab_type": "code",
        "colab": {
          "base_uri": "https://localhost:8080/",
          "height": 136
        },
        "outputId": "f666f062-3fdb-47f7-de88-60ecf16ba7d7"
      },
      "source": [
        "print(seed)"
      ],
      "execution_count": 102,
      "outputs": [
        {
          "output_type": "stream",
          "text": [
            " and integrity, in a country of opportunities further strength for transportation, improve our ability to train people with a structure as a heritage.\n",
            "There is a sublime expressed throughout my life. As Mahatma Gandhi, the Father of our region. \n",
            "It is a good start, with new eyes and needs in the rich diversity.\n",
            "The meetings.\n",
            "We agreed on seeking territory. India hosted their letters. You do not know if their choice. I will appreciable.\n",
            "It addressed proactive roles as parliamentary Awards Ceremony\n",
            "His Excellencies, I eagerly \n"
          ],
          "name": "stdout"
        }
      ]
    },
    {
      "cell_type": "code",
      "metadata": {
        "id": "PdrA3-CylE2c",
        "colab_type": "code",
        "colab": {}
      },
      "source": [
        ""
      ],
      "execution_count": 0,
      "outputs": []
    }
  ]
}