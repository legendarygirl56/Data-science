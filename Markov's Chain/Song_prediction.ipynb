{
  "nbformat": 4,
  "nbformat_minor": 0,
  "metadata": {
    "colab": {
      "name": "Song_prediction.ipynb",
      "provenance": [],
      "authorship_tag": "ABX9TyMmk+4T66ZgEE4i+qslyeim",
      "include_colab_link": true
    },
    "kernelspec": {
      "name": "python3",
      "display_name": "Python 3"
    }
  },
  "cells": [
    {
      "cell_type": "markdown",
      "metadata": {
        "id": "view-in-github",
        "colab_type": "text"
      },
      "source": [
        "<a href=\"https://colab.research.google.com/github/legendarygirl56/Data-science/blob/master/Markov's%20Chain/Song_prediction.ipynb\" target=\"_parent\"><img src=\"https://colab.research.google.com/assets/colab-badge.svg\" alt=\"Open In Colab\"/></a>"
      ]
    },
    {
      "cell_type": "code",
      "metadata": {
        "id": "uJ0GTCyNrhVV",
        "colab_type": "code",
        "colab": {}
      },
      "source": [
        "import requests\n",
        "import random"
      ],
      "execution_count": 0,
      "outputs": []
    },
    {
      "cell_type": "code",
      "metadata": {
        "id": "Vd1uKJgTrqS_",
        "colab_type": "code",
        "colab": {}
      },
      "source": [
        "text=\"\"\"Ab to haathon\n",
        "Ab to haathon se lakeere mit ti jati hain\n",
        "Us ko kho kar to mere pass raha kuch bhi nahi\n",
        "Kal bichadna hai - \"sargam\"\n",
        "Kal bichadna hai to phir ehad-e-wafa soch k baad\n",
        "Abhi aagaz-e-mohabbat hai gaya kuch bhi nahi\n",
        "Main to is vaste chup hoon k Tamasha na bane\n",
        "Tu smjhta hai mujhe tujhse gila kuch bhi nahi\n",
        "Main - \"Sargam\"\n",
        "Main to is vaste chup hoon k Tamasha na bane\n",
        "Tu smjhta hai mujhe tujhse gila kuch bhi nahi\n",
        "Sochta hoon -3\n",
        "Sochta hoon ke vo kitne masoom the -2\n",
        "Kya se kya ho gye dekhte dekhte\n",
        "Sochta hoon ke vo kitne masoom the, Kya se kya ho gye dekhte dekhte -2\n",
        "\"Sargam\"\n",
        "Sochta hoon ke vo kitne masoom the, Kya se kya ho gye dekhte dekhte\n",
        "\"Sargam\"\n",
        "Sochta hoon ke vo kitne masoom the, Kya se kya ho gye dekhte dekhte\n",
        "Re Sochta hoon ke vo kitne masoom the -2\n",
        "\"Sargam\"\n",
        "Sochta hoon ke vo kitne masoom the, Kya se kya ho gye dekhte dekhte -2\n",
        "Maine patthar se jihko banaya sanam - 2\n",
        "Vo Khuda ho gaye dekhte dekhte\n",
        "Maine patthar se jihko banaya sanam, Vo Khuda ho gaye dekhte dekhte -2\n",
        "\"Sargam\"\n",
        "Maine patthar se jihko banaya sanam, Vo Khuda ho gaye dekhte dekhte\n",
        "\"Sargam\"\n",
        "Maine patthar se jihko banaya sanam, Vo Khuda ho gaye dekhte dekhte\n",
        "\"Sargam\"\n",
        "Maine patthar se jihko banaya sanam\n",
        "Ae jin patthhro ko hamne ada ki thi dhadkane - 2\n",
        "Vo bolne lage to ham par hi baras pade Dekho ji\n",
        "Maine patthar se jihko banaya sanam, Vo Khuda ho gaye dekhte dekhte\n",
        "\"Sargam\"\n",
        "Maine patthar se jihko banaya sanam, Vo Khuda ho gaye dekhte dekhte\n",
        "Mere hathon se tarashe se hue patthar ke sanam -2\n",
        "Mere hi samne bhagwan bane baithe hai\n",
        "Maine patthar se jihko banaya sanam, Vo Khuda ho gaye dekhte dekhte\n",
        "\"Sargam\"\n",
        "Maine patthar se jihko banaya sanam, Vo Khuda ho gaye dekhte dekhte\n",
        "Hashar hai wahashatey Dil ki aawargi -3\n",
        "Humse pucho mohobbat ki deewangi - 2\n",
        "Hashar hai wahashatey Dil ki aawargi, Humse pucho mohobbat ki deewangi\n",
        "Jo pata puchte the kisi ka kabhi -2\n",
        "Laapata ho gaye dekhte dekhte\n",
        "Jo pata puchte the kisi ka kabhi, Laapata ho gaye dekhte dekhte -3\n",
        "Humse ye soch kar koi wada karo -3\n",
        "Ek wade pe umren guzar jayengi -2\n",
        "Humse ye soch kar koi wada karo\n",
        "Ek wade pe umren guzar jayengi\n",
        "Ye hai dunia yahan kitne aehl-e-wafa -2\n",
        "Bewafa ho gaye dekhte dekhte\n",
        "\"Sargam\"\n",
        "Ye hai dunia yahan kitne aehl-e-wafa, Bewafa ho gaye dekhte dekhte -3\n",
        "Ke Humse ye soch kar koi wada karo, Ek wade pe umren guzar jayengi -2\n",
        "Humse ye soch kar koi wada karo\n",
        "Din chupgya,\n",
        "Ho din chupgya-chupgya-chupgya -2\n",
        "Din chup gya sooraj ka kahin naam nahi hai -2\n",
        "O wada shikal ab bhi teri shaam nahi hai -3\n",
        "O wada shikal - wada shikal\n",
        "Shab-e-wada - Shab-e-wada ye raha karti hai baatein dil se\n",
        "Dehke yaar aata hai pehle ya kaza aati hai\n",
        "Kal se be kal hoon main\n",
        "Kal se be kal hoon bhala khaak mujhe kal aaye -2\n",
        "Kal ka wada tha na vo aaj aaye na vo kal aaye\n",
        "O wada shikal - wada shikal -2\n",
        "Roz ka intezar kon kare -2\n",
        "Aapka aitbaar kon kare\n",
        "O wada shikal - wada shikal -2\n",
        "Ho chuka wada k kab aayie ga -2\n",
        "Dekhiye ab na bhool jaiye ga\n",
        "O wada shikal - wada shikal -2\n",
        "Bhala koi wada khilafi ki had hai -2\n",
        "Hisab apne - hisab apne dil main laga kar to socho\n",
        "Bhala koi wada khilafi ki had hai\n",
        "Hisab apne - hisab apne dil main laga kar to socho\n",
        "Qayamat ka din aa gya rafta-rafta\n",
        "Mulakaat ka din badalte-badalte\n",
        "O wada shikal - wada shikal -2\n",
        "Re humse ye soch kar koi wada karo\n",
        "Ek wade par umren guzar jayengi -2\n",
        "Ye hai dunia yahan kitne aehl-e-wafa -2\n",
        "Bewafa ho gaye dekhte dekhte\n",
        "Ye hai dunia yahan kitne aehl-e-wafa, Bewafa ho gaye dekhte dekhte\n",
        "Gair ki baat tasleem kya kijiye -2\n",
        "Gair ki baat tasleem kya kijiye\n",
        "Ab to khud par bhi humko bharosa nahi -2\n",
        "Gair ki baat tasleem kya kijiye, Ab to khud par bhi humko bharosa nahi\n",
        "Apna saya smjhte the jinko kabhi -2\n",
        "Vo juda ho gaye dekhte dekhte\n",
        "Apna saya smjhte the jinko kabhi, Vo juda ho gaye dekhte dekhte\n",
        "Sochta hoon ke vo kitne masoom the\n",
        "Kya se kya ho gye dekhte dekhte olne lage to humhi par baras pade\n",
        "Hashar hai wahshat e dil ki aawargi\n",
        "Humse poocho mohabbat ki deewangi\n",
        "Jo pata poochte the kisi ka kabhi\n",
        "La pata ho gaye dekhte dekhte\n",
        "Aap yaadon mein hain aap khwabon mein hain\n",
        "Aap sanson mein hain aap aankhon mein hain\n",
        "Ab to rah e mohabbat mein hum aapka\n",
        "Aina ho gaye dekhte dekhte\n",
        "Humse ye Soch kar koi wada karo...\n",
        "Din chup gaya suraj ka kahin naam Nahin hai\n",
        "O wada shikan ab bhi Teri shaam nahi hai\n",
        "Tumhara aana na aana\n",
        "Tamanna ka hai mar jana\n",
        "Kab aaoge jab aoge\n",
        "Kya banke qayamat ka sabab aaoge\n",
        "Chayi hai ghata Aur barasti hai sharaab\n",
        "Ab bhi nahi aaye to kab aaoge\n",
        "Dil pe chot lagti hai unke muskarane se\n",
        "Ho sake to ab jao kisi bahane se\n",
        "Tera zulm nahin hai shamil gar meri Barbadi mein\n",
        "Teri ankhein kyon bheeg rahi hain mere afsane se\n",
        "Aate ho tadapate ho jaate ho tadapate ho\n",
        "Tera na aana hi behtar hai is aane jaane se\n",
        "Humse ye Soch kar koi wada karo ek wade pe umarein guzar jayengi\n",
        "Ye hai duniya yahan kitne aehle wafa\n",
        "Bewafa ho gaye dekhte dekhte\n",
        "Gair ki baat 'Tasleem' kya kijie\n",
        "Ab to Khud par bhi humko bharosa nahin\n",
        "Apna saya samajhte the jinko kabhi\n",
        "Wo juda ho gaye dekhte dekhte\"\"\""
      ],
      "execution_count": 0,
      "outputs": []
    },
    {
      "cell_type": "code",
      "metadata": {
        "id": "44pXS5x8uU5m",
        "colab_type": "code",
        "colab": {
          "base_uri": "https://localhost:8080/",
          "height": 34
        },
        "outputId": "123f140a-2625-47d9-b7f4-6b1162a5e35e"
      },
      "source": [
        "len(text)"
      ],
      "execution_count": 3,
      "outputs": [
        {
          "output_type": "execute_result",
          "data": {
            "text/plain": [
              "4901"
            ]
          },
          "metadata": {
            "tags": []
          },
          "execution_count": 3
        }
      ]
    },
    {
      "cell_type": "code",
      "metadata": {
        "id": "N53yt29qvJbh",
        "colab_type": "code",
        "colab": {}
      },
      "source": [
        "cut=text[1000:1500]"
      ],
      "execution_count": 0,
      "outputs": []
    },
    {
      "cell_type": "code",
      "metadata": {
        "id": "MrVXBZJ7vMsL",
        "colab_type": "code",
        "colab": {
          "base_uri": "https://localhost:8080/",
          "height": 238
        },
        "outputId": "1859622c-411d-4ad9-ad7b-47fcadc20821"
      },
      "source": [
        "print(cut)"
      ],
      "execution_count": 5,
      "outputs": [
        {
          "output_type": "stream",
          "text": [
            "am\"\n",
            "Maine patthar se jihko banaya sanam, Vo Khuda ho gaye dekhte dekhte\n",
            "\"Sargam\"\n",
            "Maine patthar se jihko banaya sanam, Vo Khuda ho gaye dekhte dekhte\n",
            "\"Sargam\"\n",
            "Maine patthar se jihko banaya sanam\n",
            "Ae jin patthhro ko hamne ada ki thi dhadkane - 2\n",
            "Vo bolne lage to ham par hi baras pade Dekho ji\n",
            "Maine patthar se jihko banaya sanam, Vo Khuda ho gaye dekhte dekhte\n",
            "\"Sargam\"\n",
            "Maine patthar se jihko banaya sanam, Vo Khuda ho gaye dekhte dekhte\n",
            "Mere hathon se tarashe se hue patthar ke sanam -2\n",
            "Mere hi samne \n"
          ],
          "name": "stdout"
        }
      ]
    },
    {
      "cell_type": "code",
      "metadata": {
        "id": "eFWRm8p1vOep",
        "colab_type": "code",
        "colab": {}
      },
      "source": [
        "k=9"
      ],
      "execution_count": 0,
      "outputs": []
    },
    {
      "cell_type": "code",
      "metadata": {
        "id": "v7q3oxzSvRw7",
        "colab_type": "code",
        "colab": {}
      },
      "source": [
        "probabs={}\n",
        "for i in range(k, len(text)):\n",
        "  present=text[i-k:i]\n",
        "  future=text[i]\n",
        "\n",
        "  if present not in probabs:\n",
        "    probabs[present]={}\n",
        "\n",
        "  if future not in probabs[present]:\n",
        "    probabs[present][future]=0\n",
        "\n",
        "  probabs[present][future]+=1\n"
      ],
      "execution_count": 0,
      "outputs": []
    },
    {
      "cell_type": "code",
      "metadata": {
        "id": "D7-guoBEvW4t",
        "colab_type": "code",
        "colab": {}
      },
      "source": [
        "start_loc=random.randint(50,200)"
      ],
      "execution_count": 0,
      "outputs": []
    },
    {
      "cell_type": "code",
      "metadata": {
        "id": "sJprNCPMvfLV",
        "colab_type": "code",
        "colab": {}
      },
      "source": [
        "seed = text[start_loc:start_loc+30]"
      ],
      "execution_count": 0,
      "outputs": []
    },
    {
      "cell_type": "code",
      "metadata": {
        "id": "Wb-qWtwPvi4i",
        "colab_type": "code",
        "colab": {
          "base_uri": "https://localhost:8080/",
          "height": 51
        },
        "outputId": "cc07f994-303a-4dd0-8483-d233f54f6f09"
      },
      "source": [
        "print(seed)"
      ],
      "execution_count": 11,
      "outputs": [
        {
          "output_type": "stream",
          "text": [
            " baad\n",
            "Abhi aagaz-e-mohabbat ha\n"
          ],
          "name": "stdout"
        }
      ]
    },
    {
      "cell_type": "code",
      "metadata": {
        "id": "wbvjcaG_vkU7",
        "colab_type": "code",
        "colab": {}
      },
      "source": [
        "for i in range(500):\n",
        "  present = seed[-k:]\n",
        "  present\n",
        "  possib = probabs[present]\n",
        "  top_items=2\n",
        "  top=sorted(possib.items(), key=lambda item: item[1])[-top_items:]\n",
        "  top\n",
        "  future = random.choice(top)[0]\n",
        "  future\n",
        "  seed=seed+future"
      ],
      "execution_count": 0,
      "outputs": []
    },
    {
      "cell_type": "code",
      "metadata": {
        "id": "_zXrZZ1Yvov9",
        "colab_type": "code",
        "colab": {
          "base_uri": "https://localhost:8080/",
          "height": 272
        },
        "outputId": "f90aedf3-fcc5-4a91-9ade-dbe94a662c7a"
      },
      "source": [
        "print(seed)"
      ],
      "execution_count": 13,
      "outputs": [
        {
          "output_type": "stream",
          "text": [
            " baad\n",
            "Abhi aagaz-e-mohabbat hai gaya kuch bhi nahi\n",
            "Sochta hoon ke vo kitne masoom the -2\n",
            "Kya se kya ho gye dekhte -3\n",
            "Ke Humse ye soch kar koi wada khilafi ki had hai -2\n",
            "Hisab apne - hisab apne dil main laga kar to socho\n",
            "Qayamat ka sabab aaoge\n",
            "Chayi hai ghata Aur barasti hai sharaab\n",
            "Ab bhi nahi aaye to kab aaoge\n",
            "Chayi hai ghata Aur barasti hai sharaab\n",
            "Ab bhi nahi aaye to kab aaoge\n",
            "Dil pe chot lagti hai unke muskarane se\n",
            "Ho sake to ab jao kisi bahane se\n",
            "Tera zulm nahin hai shamil gar meri Barbadi mein\n",
            "Teri ankhein kyon bheeg r\n"
          ],
          "name": "stdout"
        }
      ]
    },
    {
      "cell_type": "code",
      "metadata": {
        "id": "fdkhtJvrvwAu",
        "colab_type": "code",
        "colab": {}
      },
      "source": [
        ""
      ],
      "execution_count": 0,
      "outputs": []
    }
  ]
}