{
 "cells": [
  {
   "cell_type": "code",
   "execution_count": 51,
   "metadata": {},
   "outputs": [],
   "source": [
    "import pandas as pd\n",
    "import numpy as np\n",
    "import matplotlib.pyplot as plt"
   ]
  },
  {
   "cell_type": "code",
   "execution_count": 52,
   "metadata": {},
   "outputs": [],
   "source": [
    "m,c= 4,100"
   ]
  },
  {
   "cell_type": "code",
   "execution_count": 53,
   "metadata": {},
   "outputs": [],
   "source": [
    "X=np.linspace(-10,10,100)"
   ]
  },
  {
   "cell_type": "code",
   "execution_count": 54,
   "metadata": {},
   "outputs": [],
   "source": [
    "noise=np.random.randn(100)*20"
   ]
  },
  {
   "cell_type": "code",
   "execution_count": 55,
   "metadata": {},
   "outputs": [
    {
     "data": {
      "image/png": "[encoded data removed]",
      "text/plain": [
       "<Figure size 432x288 with 1 Axes>"
      ]
     },
     "metadata": {
      "needs_background": "light"
     },
     "output_type": "display_data"
    }
   ],
   "source": [
    "data = np.random.randn(1000)*100\n",
    "out = plt.hist(data, bins=50)"
   ]
  },
  {
   "cell_type": "code",
   "execution_count": 56,
   "metadata": {},
   "outputs": [],
   "source": [
    "y=m*X*X+c+noise"
   ]
  },
  {
   "cell_type": "code",
   "execution_count": 57,
   "metadata": {},
   "outputs": [
    {
     "data": {
      "text/plain": [
       "<matplotlib.collections.PathCollection at 0xc19bb38>"
      ]
     },
     "execution_count": 57,
     "metadata": {},
     "output_type": "execute_result"
    },
    {
     "data": {
      "image/png": "[encoded data removed]",
      "text/plain": [
       "<Figure size 432x288 with 1 Axes>"
      ]
     },
     "metadata": {
      "needs_background": "light"
     },
     "output_type": "display_data"
    }
   ],
   "source": [
    "plt.scatter(X,y)"
   ]
  },
  {
   "cell_type": "code",
   "execution_count": 58,
   "metadata": {},
   "outputs": [],
   "source": [
    "class CustomLinearReg:\n",
    "    \n",
    "    def __init__(self,lr=0.1,iters=10):\n",
    "        self.lr=lr\n",
    "        self.iters=iters\n",
    "    \n",
    "    def fit(self,X,y):\n",
    "        self.a_=np.random.random()\n",
    "        self.b_=np.random.random()\n",
    "        self.c_=np.random.random()\n",
    "        \n",
    "        errors=[]\n",
    "        for i in range(self.iters):\n",
    "            error=self.gradient_decend(X,y)\n",
    "            errors.append(error)\n",
    "            return errors\n",
    "            \n",
    "    def gradient_decend(self,X,y):\n",
    "        delta_a,delta_b,delta_c,error=self.gradient(X,y)\n",
    "        print(delta_a,delta_b,delta_c)\n",
    "        self.a_+=delta_a\n",
    "        self.b_+=delta_b\n",
    "        self.c_+=delta_c\n",
    "        return error\n",
    "        \n",
    "    def gradient(self,X,y):\n",
    "        yh=self.hypo(X)\n",
    "        dmseda=np.mean(2*(yh-y)*(X*X))\n",
    "        dmsedb=np.mean(2*(yh-y)*X)\n",
    "        dmsedc=np.mean(2*(yh-y))\n",
    "        delta_a=-dmseda*self.lr\n",
    "        delta_b=-dmsedb*self.lr\n",
    "        delta_c=-dmsedc*self.lr\n",
    "        return delta_a,delta_b,delta_c,np.mean((yh-y)**2)\n",
    "    \n",
    "    def hypo(self,X):\n",
    "        return X*X*self.a_+X*self.b_+self.c_"
   ]
  },
  {
   "cell_type": "code",
   "execution_count": 79,
   "metadata": {},
   "outputs": [
    {
     "name": "stdout",
     "output_type": "stream",
     "text": [
      "(5.741711624396949, -0.021238110168872906, 0.11610243461975008)\n"
     ]
    },
    {
     "data": {
      "text/plain": [
       "<matplotlib.collections.PathCollection at 0x10137710>"
      ]
     },
     "execution_count": 79,
     "metadata": {},
     "output_type": "execute_result"
    },
    {
     "data": {
      "image/png": "[encoded data removed]",
      "text/plain": [
       "<Figure size 432x288 with 1 Axes>"
      ]
     },
     "metadata": {
      "needs_background": "light"
     },
     "output_type": "display_data"
    }
   ],
   "source": [
    "model=CustomLinearReg(lr=0.00025,iters=1000)\n",
    "errors=model.fit(X,y)\n",
    "yh=model.hypo(X)\n",
    "plt.scatter(X,y)\n",
    "plt.scatter(X,yh)"
   ]
  },
  {
   "cell_type": "code",
   "execution_count": null,
   "metadata": {},
   "outputs": [],
   "source": []
  },
  {
   "cell_type": "code",
   "execution_count": null,
   "metadata": {},
   "outputs": [],
   "source": []
  }
 ],
 "metadata": {
  "kernelspec": {
   "display_name": "Python 2",
   "language": "python",
   "name": "python2"
  },
  "language_info": {
   "codemirror_mode": {
    "name": "ipython",
    "version": 2
   },
   "file_extension": ".py",
   "mimetype": "text/x-python",
   "name": "python",
   "nbconvert_exporter": "python",
   "pygments_lexer": "ipython2",
   "version": "2.7.16"
  }
 },
 "nbformat": 4,
 "nbformat_minor": 2
}
