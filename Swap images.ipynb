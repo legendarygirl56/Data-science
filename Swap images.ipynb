{
 "cells": [
  {
   "cell_type": "code",
   "execution_count": 7,
   "metadata": {},
   "outputs": [],
   "source": [
    "import cv2"
   ]
  },
  {
   "cell_type": "code",
   "execution_count": 8,
   "metadata": {},
   "outputs": [],
   "source": [
    "cap=cv2.VideoCapture(0)#this class videocap is used to use the streams of webcam\n",
    "#instead of 0 if u write any video name it work as well if the video is saved on your system\n",
    "classifier= cv2.CascadeClassifier(\"haarcascade_frontalface_default.xml\")#haar cascade contains all the sizes and proposions of frontal face features"
   ]
  },
  {
   "cell_type": "code",
   "execution_count": 9,
   "metadata": {},
   "outputs": [],
   "source": [
    "while True:\n",
    "    retval,image=cap.read()#retval gives where anything received or not(bool value)\n",
    "    if retval:\n",
    "        faces=classifier.detectMultiScale(image)\n",
    "        #it will be shown\n",
    "        if len(faces)>=2:\n",
    "            sorted_faces=sorted(faces,key=lambda item:item[2]*item[3])\n",
    "            face1,face2=sorted_faces[-2:]\n",
    "            \n",
    "            x,y,w,h=face1\n",
    "            x2,y2,w2,h2=face2\n",
    "            \n",
    "            cut=image[y:y+h, x:x+w]\n",
    "            cut2=image[y2:y2+h2, x2:x2+w2]#we are creating another window for chopped webcam\n",
    "            \n",
    "            t_cut1=cv2.resize(cut2,(cut.shape[1],cut.shape[0]))\n",
    "            t_cut2=cv2.resize(cut,(cut2.shape[1],cut2.shape[0]))\n",
    "            \n",
    "            image[y:y+h, x:x+w]=t_cut1\n",
    "            image[y2:y2+h2, x2:x2+w2]=t_cut2\n",
    "            cv2.imshow(\"swaped\",image)\n",
    "        else:\n",
    "            cv2.imshow(\"my cam\",image)\n",
    "            \n",
    "    key=cv2.waitKey(10)#wait for 10 mili secs\n",
    "    \n",
    "    if key==ord(\"q\"):#if q is pressed camera will stop\n",
    "        break\n",
    "    elif key== ord(\"c\"):\n",
    "        cv2.imwrite(\"ayu.jpg\",image)#if c is pressed it will click a picture\n",
    "    \n",
    "cap.release()\n",
    "cv2.destroyAllWindows()  "
   ]
  },
  {
   "cell_type": "code",
   "execution_count": null,
   "metadata": {},
   "outputs": [],
   "source": []
  }
 ],
 "metadata": {
  "kernelspec": {
   "display_name": "Python 2",
   "language": "python",
   "name": "python2"
  },
  "language_info": {
   "codemirror_mode": {
    "name": "ipython",
    "version": 2
   },
   "file_extension": ".py",
   "mimetype": "text/x-python",
   "name": "python",
   "nbconvert_exporter": "python",
   "pygments_lexer": "ipython2",
   "version": "2.7.16"
  }
 },
 "nbformat": 4,
 "nbformat_minor": 2
}
