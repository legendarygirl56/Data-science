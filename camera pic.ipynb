{
 "cells": [
  {
   "cell_type": "code",
   "execution_count": 7,
   "metadata": {},
   "outputs": [],
   "source": [
    "import cv2"
   ]
  },
  {
   "cell_type": "code",
   "execution_count": 8,
   "metadata": {},
   "outputs": [],
   "source": [
    "cap=cv2.VideoCapture(0)#this class videocap is used to use the streams of webcam\n",
    "#instead of 0 if u write any video name it work as well if the video is saved on your system"
   ]
  },
  {
   "cell_type": "code",
   "execution_count": 9,
   "metadata": {},
   "outputs": [],
   "source": [
    "while True:\n",
    "    retval,image=cap.read()#retval gives where anything received or not(bool value)\n",
    "    if retval:\n",
    "        x,y,w,h=(100,120,160,160)\n",
    "        cut=image[y:y+h, x:x+w]#we are creating another window for chopped webcam\n",
    "        cv2.imshow(\"my cam\",image)#it will be shown\n",
    "        cv2.imshow(\"chopped\",cut)\n",
    "        \n",
    "    key=cv2.waitKey(10)#wait for 10 mili secs\n",
    "    \n",
    "    if key==ord(\"q\"):#if q is pressed camera will stop\n",
    "        break\n",
    "    elif key== ord(\"c\"):\n",
    "        cv2.imwrite(\"ayu.jpg\",image)#if c is pressed it will click a picture\n",
    "    \n",
    "cap.release()\n",
    "cv2.destroyAllWindows()  "
   ]
  },
  {
   "cell_type": "code",
   "execution_count": null,
   "metadata": {},
   "outputs": [],
   "source": []
  }
 ],
 "metadata": {
  "kernelspec": {
   "display_name": "Python 2",
   "language": "python",
   "name": "python2"
  },
  "language_info": {
   "codemirror_mode": {
    "name": "ipython",
    "version": 2
   },
   "file_extension": ".py",
   "mimetype": "text/x-python",
   "name": "python",
   "nbconvert_exporter": "python",
   "pygments_lexer": "ipython2",
   "version": "2.7.16"
  }
 },
 "nbformat": 4,
 "nbformat_minor": 2
}
