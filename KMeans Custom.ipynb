{
 "cells": [
  {
   "cell_type": "code",
   "execution_count": 4,
   "metadata": {},
   "outputs": [],
   "source": [
    "import numpy as np\n",
    "import matplotlib.pyplot as plt\n",
    "from sklearn.datasets import make_blobs\n",
    "import random\n",
    "from sklearn.model_selection import train_test_split\n",
    "\n",
    "X,y=make_blobs(n_samples=100,centers=6,random_state=42)"
   ]
  },
  {
   "cell_type": "code",
   "execution_count": 5,
   "metadata": {},
   "outputs": [
    {
     "data": {
      "text/plain": [
       "<matplotlib.collections.PathCollection at 0xb2ad390>"
      ]
     },
     "execution_count": 5,
     "metadata": {},
     "output_type": "execute_result"
    },
    {
     "data": {
      "image/png": "[encoded data removed]",
      "text/plain": [
       "<Figure size 432x288 with 1 Axes>"
      ]
     },
     "metadata": {
      "needs_background": "light"
     },
     "output_type": "display_data"
    }
   ],
   "source": [
    "plt.scatter(X[:, 0],X[:, 1])"
   ]
  },
  {
   "cell_type": "code",
   "execution_count": 8,
   "metadata": {},
   "outputs": [],
   "source": [
    "class Cluster:\n",
    "    def __init__(self,name,center):\n",
    "        self.name=name\n",
    "        self.center=center\n",
    "        self.points=[]\n",
    "        \n",
    "    def distance(self,point):\n",
    "        return np.sqrt(np.sum((self.center-point)**2))\n",
    "    \n",
    "    def relocate(self):\n",
    "        self.center=np.mean(self.points, axis=0)\n",
    "    \n",
    "    \n",
    "    \n",
    "class KMeans_Custom:\n",
    "    def __init__(self,n_clusters=5,n_init=10,max_iters=300):\n",
    "        self.n_clusters=n_clusters\n",
    "        self.n_init=n_init\n",
    "        self.max_iters=max_iters\n",
    "    \n",
    "    def fit(self,X):\n",
    "        timeline_infos=[]\n",
    "        for timeline in range(self.n_init):\n",
    "            clusters=[]\n",
    "            for i in range(self.n_clusters):\n",
    "                cluster=Cluster(i,random.choice(X))\n",
    "                clusters.append(cluster)\n",
    "\n",
    "            for i in range(self.max_iters):\n",
    "                labels=[]   #stores votes of everyone\n",
    "                for point in X:\n",
    "                    distances=[]\n",
    "                    for cluster in clusters:\n",
    "                        distance=cluster.distance(point)\n",
    "                        distances.append(distance)\n",
    "                    selected=clusters[np.argmin(distances)]   \n",
    "                    labels.append(selected.name)\n",
    "                    selected.points.append(point)\n",
    "                for cluster in clusters:\n",
    "                    cluster.relocate()\n",
    "            err=self.error(clusters,X,labels)\n",
    "            timeline_infos.append([err,clusters,labels])\n",
    "            \n",
    "        sorted_infos=sorted(timeline_infos)\n",
    "        err,clusters,labels=sorted_infos[0]\n",
    "        self.labels_ =labels\n",
    "        self.cluster_centers_=np.array([cluster.center for cluster in clusters])\n",
    "        \n",
    "    def error(self,clusters,X,labels):\n",
    "        err=0\n",
    "        for point,label in zip(X,labels):\n",
    "            cluster=clusters[label]\n",
    "            distance=cluster.distance(point)\n",
    "            err+=distance\n",
    "        return err"
   ]
  },
  {
   "cell_type": "code",
   "execution_count": 11,
   "metadata": {},
   "outputs": [
    {
     "data": {
      "text/plain": [
       "array([[ 2.08014933,  4.23864374],\n",
       "       [ 4.52156803,  2.20772001],\n",
       "       [-9.56753152,  9.92091181],\n",
       "       [-9.20471494,  7.35137622],\n",
       "       [-2.81937737,  8.60427975],\n",
       "       [-6.84770403, -7.09318466]])"
      ]
     },
     "execution_count": 11,
     "metadata": {},
     "output_type": "execute_result"
    }
   ],
   "source": [
    "model=KMeans_Custom(n_clusters=6)\n",
    "model.fit(X)\n",
    "model.cluster_centers_"
   ]
  },
  {
   "cell_type": "code",
   "execution_count": 12,
   "metadata": {},
   "outputs": [
    {
     "data": {
      "image/png": "[encoded data removed]",
      "text/plain": [
       "<Figure size 432x288 with 1 Axes>"
      ]
     },
     "metadata": {
      "needs_background": "light"
     },
     "output_type": "display_data"
    }
   ],
   "source": [
    "\n",
    "plt.scatter(X[:, 0],X[:, 1], c=model.labels_)\n",
    "for center in model.cluster_centers_:\n",
    "    plt.scatter(center[0], center[1])"
   ]
  },
  {
   "cell_type": "code",
   "execution_count": null,
   "metadata": {},
   "outputs": [],
   "source": []
  },
  {
   "cell_type": "code",
   "execution_count": null,
   "metadata": {},
   "outputs": [],
   "source": []
  }
 ],
 "metadata": {
  "kernelspec": {
   "display_name": "Python 2",
   "language": "python",
   "name": "python2"
  },
  "language_info": {
   "codemirror_mode": {
    "name": "ipython",
    "version": 2
   },
   "file_extension": ".py",
   "mimetype": "text/x-python",
   "name": "python",
   "nbconvert_exporter": "python",
   "pygments_lexer": "ipython2",
   "version": "2.7.16"
  }
 },
 "nbformat": 4,
 "nbformat_minor": 2
}
