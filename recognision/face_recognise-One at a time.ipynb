{
 "cells": [
  {
   "cell_type": "code",
   "execution_count": 27,
   "metadata": {},
   "outputs": [],
   "source": [
    "import cv2\n",
    "import numpy as np;\n",
    "import os\n",
    "from sklearn.neighbors import KNeighborsClassifier"
   ]
  },
  {
   "cell_type": "code",
   "execution_count": 28,
   "metadata": {},
   "outputs": [],
   "source": [
    "data=np.load(\"faces.npy\")\n",
    "X,y=data[:, 1:],data[:, 0]"
   ]
  },
  {
   "cell_type": "code",
   "execution_count": 29,
   "metadata": {},
   "outputs": [
    {
     "data": {
      "text/plain": [
       "KNeighborsClassifier(algorithm='auto', leaf_size=30, metric='minkowski',\n",
       "           metric_params=None, n_jobs=None, n_neighbors=5, p=2,\n",
       "           weights='uniform')"
      ]
     },
     "execution_count": 29,
     "metadata": {},
     "output_type": "execute_result"
    }
   ],
   "source": [
    "model=KNeighborsClassifier()\n",
    "model.fit(X,y)"
   ]
  },
  {
   "cell_type": "code",
   "execution_count": 30,
   "metadata": {},
   "outputs": [],
   "source": [
    "cap=cv2.VideoCapture(0)#this class videocap is used to use the streams of webcam\n",
    "#instead of 0 if u write any video name it work as well if the video is saved on your system\n",
    "classifier= cv2.CascadeClassifier(\"haarcascade_frontalface_default.xml\")#haar cascade contains all the sizes and proposions of frontal face features"
   ]
  },
  {
   "cell_type": "code",
   "execution_count": 31,
   "metadata": {},
   "outputs": [],
   "source": [
    "\n",
    "while True:\n",
    "    retval,image=cap.read()#retval gives where anything received or not(bool value)\n",
    "    if retval:\n",
    "        faces=classifier.detectMultiScale(image)\n",
    "        #it will be shown\n",
    "        if len(faces)>0:\n",
    "            sorted_faces=sorted(faces,key=lambda item:item[2]*item[3])\n",
    "            x,y,w,h=faces[-1]\n",
    "            cut=image[y:y+h, x:x+w]#we are creating another window for chopped webcam\n",
    "            resized=cv2.resize(cut,(100,100))\n",
    "            y_test_item=resized.mean(axis=2).flatten()\n",
    "            output = (model.predict([y_test_item]))[0]\n",
    "            cv2.rectangle(image,(x,y),(x+w,y+h),(255,255,255),5)#bgr 5 is thickness\n",
    "            cv2.putText(image,str(output),(x,y),cv2.FONT_HERSHEY_SIMPLEX,3,(255,0,0),2)\n",
    "        cv2.imshow(\"my cam\",image)\n",
    "    key=cv2.waitKey(1)#wait for 10 mili secs\n",
    "    \n",
    "    if key==ord(\"q\"):#if q is pressed camera will stop\n",
    "        break\n",
    "    \n",
    "cap.release()\n",
    "cv2.destroyAllWindows()  \n"
   ]
  },
  {
   "cell_type": "code",
   "execution_count": null,
   "metadata": {},
   "outputs": [],
   "source": []
  }
 ],
 "metadata": {
  "kernelspec": {
   "display_name": "Python 2",
   "language": "python",
   "name": "python2"
  },
  "language_info": {
   "codemirror_mode": {
    "name": "ipython",
    "version": 2
   },
   "file_extension": ".py",
   "mimetype": "text/x-python",
   "name": "python",
   "nbconvert_exporter": "python",
   "pygments_lexer": "ipython2",
   "version": "2.7.16"
  }
 },
 "nbformat": 4,
 "nbformat_minor": 2
}
