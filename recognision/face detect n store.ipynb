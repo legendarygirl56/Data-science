{
 "cells": [
  {
   "cell_type": "code",
   "execution_count": null,
   "metadata": {},
   "outputs": [],
   "source": [
    "import cv2\n",
    "import numpy as np;\n",
    "import os"
   ]
  },
  {
   "cell_type": "code",
   "execution_count": 17,
   "metadata": {},
   "outputs": [],
   "source": [
    "cap=cv2.VideoCapture(0)#this class videocap is used to use the streams of webcam\n",
    "#instead of 0 if u write any video name it work as well if the video is saved on your system\n",
    "classifier= cv2.CascadeClassifier(\"haarcascade_frontalface_default.xml\")#haar cascade contains all the sizes and proposions of frontal face features"
   ]
  },
  {
   "cell_type": "code",
   "execution_count": 18,
   "metadata": {},
   "outputs": [
    {
     "name": "stdin",
     "output_type": "stream",
     "text": [
      "Enter number of pics:  5\n"
     ]
    }
   ],
   "source": [
    "count=int(input(\"Enter number of pics: \"))"
   ]
  },
  {
   "cell_type": "code",
   "execution_count": 19,
   "metadata": {},
   "outputs": [
    {
     "name": "stdin",
     "output_type": "stream",
     "text": [
      "Enter the name:  'modi'\n"
     ]
    }
   ],
   "source": [
    "name=str(input(\"Enter the name: \"))"
   ]
  },
  {
   "cell_type": "code",
   "execution_count": null,
   "metadata": {},
   "outputs": [],
   "source": [
    "images=[]\n",
    "\n",
    "while True:\n",
    "    retval,image=cap.read()#retval gives where anything received or not(bool value)\n",
    "    if retval:\n",
    "        faces=classifier.detectMultiScale(image)\n",
    "        cv2.imshow(\"my cam\",image)#it will be shown\n",
    "        if len(faces)>0:\n",
    "            sorted_faces=sorted(faces,key=lambda item:item[2]*item[3])\n",
    "            x,y,w,h=faces[-1]\n",
    "            cut=image[y:y+h, x:x+w]#we are creating another window for chopped webcam\n",
    "            resized=cv2.resize(cut,(100,100))\n",
    "            cv2.imshow(\"chopped\",resized)\n",
    "        \n",
    "    key=cv2.waitKey(1)#wait for 10 mili secs\n",
    "    \n",
    "    if key==ord(\"q\"):#if q is pressed camera will stop\n",
    "        break\n",
    "    elif key== ord(\"c\"):\n",
    "        images.append(resized.mean(axis=2).flatten())\n",
    "        print(count)\n",
    "        count-=1;\n",
    "        if count==0:\n",
    "            break\n",
    "    \n",
    "cap.release()\n",
    "cv2.destroyAllWindows()  \n",
    "\n",
    "X=np.array(images)\n",
    "y=np.full((X.shape[0],1),name)\n",
    "data=np.hstack([y,X])#data shape is (5,10001)\n",
    "\n",
    "if os.path.exists(\"faces.npy\"):\n",
    "    old=np.load(\"faces.npy\")\n",
    "    data=np.vstack([old,data])\n",
    "np.save(\"faces.npy\", data)\n",
    "print(data.shape)"
   ]
  },
  {
   "cell_type": "code",
   "execution_count": null,
   "metadata": {},
   "outputs": [],
   "source": []
  }
 ],
 "metadata": {
  "kernelspec": {
   "display_name": "Python 2",
   "language": "python",
   "name": "python2"
  },
  "language_info": {
   "codemirror_mode": {
    "name": "ipython",
    "version": 2
   },
   "file_extension": ".py",
   "mimetype": "text/x-python",
   "name": "python",
   "nbconvert_exporter": "python",
   "pygments_lexer": "ipython2",
   "version": "2.7.16"
  }
 },
 "nbformat": 4,
 "nbformat_minor": 2
}
