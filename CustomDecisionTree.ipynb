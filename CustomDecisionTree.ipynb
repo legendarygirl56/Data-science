{
 "cells": [
  {
   "cell_type": "code",
   "execution_count": 4,
   "metadata": {},
   "outputs": [],
   "source": [
    "import pandas as pd\n",
    "\n",
    "import numpy as np\n",
    "import pandas as pd\n",
    "import matplotlib.pyplot as plt\n"
   ]
  },
  {
   "cell_type": "code",
   "execution_count": 5,
   "metadata": {},
   "outputs": [],
   "source": [
    "def entropy(sequence):\n",
    "    items, counts = np.unique(sequence, return_counts=True)\n",
    "    probs = counts/np.sum(counts)\n",
    "    return -np.sum(probs * np.log2(probs))"
   ]
  },
  {
   "cell_type": "code",
   "execution_count": 6,
   "metadata": {},
   "outputs": [],
   "source": [
    "def infogain(X, y, label):\n",
    "    pivot = X[label].mean() # just an assumption\n",
    "    \n",
    "    left = y.loc[X[label] < pivot]\n",
    "    right = y.loc[X[label] >= pivot]\n",
    "    \n",
    "    prob_l, prob_r = len(left)/len(y), len(right)/len(y)\n",
    "    \n",
    "    return entropy(y) - prob_l * entropy(left) - prob_r * entropy(right)"
   ]
  },
  {
   "cell_type": "code",
   "execution_count": 7,
   "metadata": {},
   "outputs": [],
   "source": [
    "data = pd.read_csv(\"processed.csv\")"
   ]
  },
  {
   "cell_type": "code",
   "execution_count": 8,
   "metadata": {},
   "outputs": [
    {
     "data": {
      "text/html": [
       "<div>\n",
       "<style scoped>\n",
       "    .dataframe tbody tr th:only-of-type {\n",
       "        vertical-align: middle;\n",
       "    }\n",
       "\n",
       "    .dataframe tbody tr th {\n",
       "        vertical-align: top;\n",
       "    }\n",
       "\n",
       "    .dataframe thead th {\n",
       "        text-align: right;\n",
       "    }\n",
       "</style>\n",
       "<table border=\"1\" class=\"dataframe\">\n",
       "  <thead>\n",
       "    <tr style=\"text-align: right;\">\n",
       "      <th></th>\n",
       "      <th>Survived</th>\n",
       "      <th>Pclass</th>\n",
       "      <th>Sex</th>\n",
       "      <th>Age</th>\n",
       "      <th>SibSp</th>\n",
       "      <th>Parch</th>\n",
       "    </tr>\n",
       "  </thead>\n",
       "  <tbody>\n",
       "    <tr>\n",
       "      <th>0</th>\n",
       "      <td>0.0</td>\n",
       "      <td>3.0</td>\n",
       "      <td>1.0</td>\n",
       "      <td>22.00</td>\n",
       "      <td>1.0</td>\n",
       "      <td>0.0</td>\n",
       "    </tr>\n",
       "    <tr>\n",
       "      <th>1</th>\n",
       "      <td>1.0</td>\n",
       "      <td>1.0</td>\n",
       "      <td>0.0</td>\n",
       "      <td>38.00</td>\n",
       "      <td>1.0</td>\n",
       "      <td>0.0</td>\n",
       "    </tr>\n",
       "    <tr>\n",
       "      <th>2</th>\n",
       "      <td>1.0</td>\n",
       "      <td>3.0</td>\n",
       "      <td>0.0</td>\n",
       "      <td>26.00</td>\n",
       "      <td>0.0</td>\n",
       "      <td>0.0</td>\n",
       "    </tr>\n",
       "    <tr>\n",
       "      <th>3</th>\n",
       "      <td>1.0</td>\n",
       "      <td>1.0</td>\n",
       "      <td>0.0</td>\n",
       "      <td>35.00</td>\n",
       "      <td>1.0</td>\n",
       "      <td>0.0</td>\n",
       "    </tr>\n",
       "    <tr>\n",
       "      <th>4</th>\n",
       "      <td>0.0</td>\n",
       "      <td>3.0</td>\n",
       "      <td>1.0</td>\n",
       "      <td>35.00</td>\n",
       "      <td>0.0</td>\n",
       "      <td>0.0</td>\n",
       "    </tr>\n",
       "    <tr>\n",
       "      <th>...</th>\n",
       "      <td>...</td>\n",
       "      <td>...</td>\n",
       "      <td>...</td>\n",
       "      <td>...</td>\n",
       "      <td>...</td>\n",
       "      <td>...</td>\n",
       "    </tr>\n",
       "    <tr>\n",
       "      <th>886</th>\n",
       "      <td>0.0</td>\n",
       "      <td>2.0</td>\n",
       "      <td>1.0</td>\n",
       "      <td>27.00</td>\n",
       "      <td>0.0</td>\n",
       "      <td>0.0</td>\n",
       "    </tr>\n",
       "    <tr>\n",
       "      <th>887</th>\n",
       "      <td>1.0</td>\n",
       "      <td>1.0</td>\n",
       "      <td>0.0</td>\n",
       "      <td>19.00</td>\n",
       "      <td>0.0</td>\n",
       "      <td>0.0</td>\n",
       "    </tr>\n",
       "    <tr>\n",
       "      <th>888</th>\n",
       "      <td>0.0</td>\n",
       "      <td>3.0</td>\n",
       "      <td>0.0</td>\n",
       "      <td>21.75</td>\n",
       "      <td>1.0</td>\n",
       "      <td>2.0</td>\n",
       "    </tr>\n",
       "    <tr>\n",
       "      <th>889</th>\n",
       "      <td>1.0</td>\n",
       "      <td>1.0</td>\n",
       "      <td>1.0</td>\n",
       "      <td>26.00</td>\n",
       "      <td>0.0</td>\n",
       "      <td>0.0</td>\n",
       "    </tr>\n",
       "    <tr>\n",
       "      <th>890</th>\n",
       "      <td>0.0</td>\n",
       "      <td>3.0</td>\n",
       "      <td>1.0</td>\n",
       "      <td>32.00</td>\n",
       "      <td>0.0</td>\n",
       "      <td>0.0</td>\n",
       "    </tr>\n",
       "  </tbody>\n",
       "</table>\n",
       "<p>891 rows × 6 columns</p>\n",
       "</div>"
      ],
      "text/plain": [
       "     Survived  Pclass  Sex    Age  SibSp  Parch\n",
       "0         0.0     3.0  1.0  22.00    1.0    0.0\n",
       "1         1.0     1.0  0.0  38.00    1.0    0.0\n",
       "2         1.0     3.0  0.0  26.00    0.0    0.0\n",
       "3         1.0     1.0  0.0  35.00    1.0    0.0\n",
       "4         0.0     3.0  1.0  35.00    0.0    0.0\n",
       "..        ...     ...  ...    ...    ...    ...\n",
       "886       0.0     2.0  1.0  27.00    0.0    0.0\n",
       "887       1.0     1.0  0.0  19.00    0.0    0.0\n",
       "888       0.0     3.0  0.0  21.75    1.0    2.0\n",
       "889       1.0     1.0  1.0  26.00    0.0    0.0\n",
       "890       0.0     3.0  1.0  32.00    0.0    0.0\n",
       "\n",
       "[891 rows x 6 columns]"
      ]
     },
     "execution_count": 8,
     "metadata": {},
     "output_type": "execute_result"
    }
   ],
   "source": [
    "data"
   ]
  },
  {
   "cell_type": "code",
   "execution_count": 10,
   "metadata": {},
   "outputs": [],
   "source": [
    "X, y = data.drop([\"Survived\"], axis=1), data.Survived\n",
    "\n",
    "from sklearn.model_selection import train_test_split\n",
    "\n",
    "X_train, X_test, y_train, y_test = train_test_split(X, y, test_size=0.33, random_state=42)"
   ]
  },
  {
   "cell_type": "code",
   "execution_count": null,
   "metadata": {},
   "outputs": [],
   "source": []
  },
  {
   "cell_type": "code",
   "execution_count": 12,
   "metadata": {},
   "outputs": [
    {
     "name": "stdout",
     "output_type": "stream",
     "text": [
      "Pclass 0.07579362743608165\n",
      "Sex 0.2176601066606143\n",
      "Age 0.001105606725090691\n",
      "SibSp 0.009584541813400127\n",
      "Parch 0.015380754493137666\n"
     ]
    }
   ],
   "source": [
    "for col in X.columns:\n",
    "    print(col, infogain(X, y, col))"
   ]
  },
  {
   "cell_type": "code",
   "execution_count": 21,
   "metadata": {},
   "outputs": [],
   "source": [
    "class Node:\n",
    "    \n",
    "    def __init__(self, label=None, pivot=None, result=None):\n",
    "        self.label = label\n",
    "        self.pivot = pivot\n",
    "        self.result = result\n",
    "        \n",
    "        self.left = None\n",
    "        self.right = None\n",
    "        \n",
    "    def __repr__(self):\n",
    "        if self.label:\n",
    "            return \"{} : {}\".format(self.label, self.pivot)\n",
    "        else:\n",
    "            return [\"Dead\", \"Alive\"][int(self.result > .5)]"
   ]
  },
  {
   "cell_type": "code",
   "execution_count": null,
   "metadata": {},
   "outputs": [],
   "source": []
  },
  {
   "cell_type": "code",
   "execution_count": 98,
   "metadata": {},
   "outputs": [],
   "source": [
    "class CustomDecisionTree:\n",
    "    \n",
    "    def __init__(self, max_depth=5):\n",
    "        self.max_depth = max_depth\n",
    "    \n",
    "    def fit(self, X, y):\n",
    "        self.root = self.fit_rec(X, y, 0)\n",
    "    \n",
    "    def fit_rec(self, X, y, depth):\n",
    "        if depth == self.max_depth:\n",
    "            node = Node(result=y.mean())\n",
    "            return node\n",
    "        \n",
    "        gains = []\n",
    "        \n",
    "        for col in X.columns:\n",
    "            gains.append([infogain(X, y, col), col])\n",
    "            \n",
    "        max_gain, selected_column = sorted(gains)[-1]\n",
    "        \n",
    "        if max_gain <= 0:\n",
    "            node = Node(result=y.mean())\n",
    "            return node\n",
    "        \n",
    "        \n",
    "        pivot = X[selected_column].mean()\n",
    "        left, right = X[selected_column] < pivot, X[selected_column] >= pivot\n",
    "        \n",
    "        X_left, X_right = X.loc[left], X.loc[right]\n",
    "        y_left, y_right = y.loc[left], y.loc[right]\n",
    "        \n",
    "        node = Node(label=selected_column, pivot=pivot)\n",
    "        node.left = self.fit_rec(X_left, y_left, depth + 1)\n",
    "        node.right = self.fit_rec(X_right, y_right, depth + 1)\n",
    "        \n",
    "        return node\n",
    "    \n",
    "    def display(self, node, indent=\"\"):\n",
    "        if node == None:\n",
    "            return\n",
    "        \n",
    "        print(indent, node)\n",
    "        self.display(node.left, indent + \"\\t\")\n",
    "        self.display(node.right, indent + \"\\t\")\n",
    "        \n",
    "    def predict_point(self, node, row):\n",
    "        if node.result != None:\n",
    "            return node.result\n",
    "        \n",
    "        if row[node.label] < node.pivot:\n",
    "            return self.predict_point(node.left, row)\n",
    "        else:\n",
    "            return self.predict_point(node.right, row)\n",
    "    \n",
    "    \n",
    "    def predict(self, X):\n",
    "        \n",
    "        result = []\n",
    "        for index, row in X.iterrows():\n",
    "            result.append(self.predict_point(self.root, row))\n",
    "            \n",
    "        return (np.array(result) > .5).astype(int)\n",
    "            \n",
    "        \n",
    "    def score(self, X, y):\n",
    "        yp = self.predict(X)\n",
    "        return (yp == y).mean()"
   ]
  },
  {
   "cell_type": "code",
   "execution_count": 99,
   "metadata": {},
   "outputs": [],
   "source": [
    "model = CustomDecisionTree()"
   ]
  },
  {
   "cell_type": "code",
   "execution_count": 100,
   "metadata": {},
   "outputs": [],
   "source": [
    "model.fit(X_train, y_train)"
   ]
  },
  {
   "cell_type": "code",
   "execution_count": 101,
   "metadata": {},
   "outputs": [
    {
     "data": {
      "text/plain": [
       "Pclass : 2.4128205128205127"
      ]
     },
     "execution_count": 101,
     "metadata": {},
     "output_type": "execute_result"
    }
   ],
   "source": [
    "model.root.right"
   ]
  },
  {
   "cell_type": "code",
   "execution_count": 102,
   "metadata": {},
   "outputs": [
    {
     "name": "stdout",
     "output_type": "stream",
     "text": [
      " Sex : 0.6543624161073825\n",
      "\t Pclass : 2.1941747572815533\n",
      "\t\t SibSp : 0.514018691588785\n",
      "\t\t\t Age : 33.09950766705985\n",
      "\t\t\t\t Alive\n",
      "\t\t\t\t Age : 43.15084033613444\n",
      "\t\t\t\t\t Alive\n",
      "\t\t\t\t\t Alive\n",
      "\t\t\t Age : 29.644444444444446\n",
      "\t\t\t\t SibSp : 1.2916666666666667\n",
      "\t\t\t\t\t Alive\n",
      "\t\t\t\t\t Alive\n",
      "\t\t\t\t Alive\n",
      "\t\t SibSp : 0.9797979797979798\n",
      "\t\t\t Parch : 0.5555555555555556\n",
      "\t\t\t\t Age : 22.243589743589745\n",
      "\t\t\t\t\t Alive\n",
      "\t\t\t\t\t Dead\n",
      "\t\t\t\t Parch : 2.0\n",
      "\t\t\t\t\t Alive\n",
      "\t\t\t\t\t Alive\n",
      "\t\t\t Parch : 1.1111111111111112\n",
      "\t\t\t\t Age : 23.225\n",
      "\t\t\t\t\t Alive\n",
      "\t\t\t\t\t Dead\n",
      "\t\t\t\t SibSp : 3.6666666666666665\n",
      "\t\t\t\t\t Dead\n",
      "\t\t\t\t\t Dead\n",
      "\t Pclass : 2.4128205128205127\n",
      "\t\t Parch : 0.20915032679738563\n",
      "\t\t\t Pclass : 1.5\n",
      "\t\t\t\t Age : 41.06155321782178\n",
      "\t\t\t\t\t Dead\n",
      "\t\t\t\t\t Dead\n",
      "\t\t\t\t SibSp : 0.234375\n",
      "\t\t\t\t\t Dead\n",
      "\t\t\t\t\t Dead\n",
      "\t\t\t Age : 29.06\n",
      "\t\t\t\t Age : 11.192307692307692\n",
      "\t\t\t\t\t Alive\n",
      "\t\t\t\t\t Dead\n",
      "\t\t\t\t Pclass : 1.25\n",
      "\t\t\t\t\t Dead\n",
      "\t\t\t\t\t Dead\n",
      "\t\t Parch : 0.22784810126582278\n",
      "\t\t\t Age : 28.509728039643676\n",
      "\t\t\t\t SibSp : 0.17266187050359713\n",
      "\t\t\t\t\t Dead\n",
      "\t\t\t\t\t Dead\n",
      "\t\t\t\t Age : 38.475806451612904\n",
      "\t\t\t\t\t Dead\n",
      "\t\t\t\t\t Dead\n",
      "\t\t\t SibSp : 2.9722222222222223\n",
      "\t\t\t\t Age : 22.76\n",
      "\t\t\t\t\t Alive\n",
      "\t\t\t\t\t Dead\n",
      "\t\t\t\t SibSp : 5.0\n",
      "\t\t\t\t\t Dead\n",
      "\t\t\t\t\t Dead\n"
     ]
    }
   ],
   "source": [
    "model.display(model.root)"
   ]
  },
  {
   "cell_type": "code",
   "execution_count": 103,
   "metadata": {},
   "outputs": [
    {
     "data": {
      "text/plain": [
       "array([0, 0, 0, 1, 1, 1, 1, 0, 1, 1])"
      ]
     },
     "execution_count": 103,
     "metadata": {},
     "output_type": "execute_result"
    }
   ],
   "source": [
    "model.predict(X_test.iloc[:10])"
   ]
  },
  {
   "cell_type": "code",
   "execution_count": 104,
   "metadata": {},
   "outputs": [
    {
     "data": {
      "text/plain": [
       "709    1.0\n",
       "439    0.0\n",
       "840    0.0\n",
       "720    1.0\n",
       "39     1.0\n",
       "290    1.0\n",
       "300    1.0\n",
       "333    0.0\n",
       "208    1.0\n",
       "136    1.0\n",
       "Name: Survived, dtype: float64"
      ]
     },
     "execution_count": 104,
     "metadata": {},
     "output_type": "execute_result"
    }
   ],
   "source": [
    "y_test[:10]"
   ]
  },
  {
   "cell_type": "code",
   "execution_count": 105,
   "metadata": {},
   "outputs": [
    {
     "data": {
      "text/plain": [
       "0.823728813559322"
      ]
     },
     "execution_count": 105,
     "metadata": {},
     "output_type": "execute_result"
    }
   ],
   "source": [
    "model.score(X_test, y_test)"
   ]
  },
  {
   "cell_type": "code",
   "execution_count": null,
   "metadata": {},
   "outputs": [],
   "source": []
  },
  {
   "cell_type": "code",
   "execution_count": null,
   "metadata": {},
   "outputs": [],
   "source": []
  }
 ],
 "metadata": {
  "kernelspec": {
   "display_name": "Python 3",
   "language": "python",
   "name": "python3"
  },
  "language_info": {
   "codemirror_mode": {
    "name": "ipython",
    "version": 3
   },
   "file_extension": ".py",
   "mimetype": "text/x-python",
   "name": "python",
   "nbconvert_exporter": "python",
   "pygments_lexer": "ipython3",
   "version": "3.6.10"
  }
 },
 "nbformat": 4,
 "nbformat_minor": 4
}
