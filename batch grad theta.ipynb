{
 "cells": [
  {
   "cell_type": "code",
   "execution_count": 6,
   "metadata": {},
   "outputs": [],
   "source": [
    "import pandas as pd\n",
    "import numpy as np\n",
    "import matplotlib.pyplot as plt\n",
    "\n",
    "from sklearn.datasets import make_regression\n",
    "from sklearn.linear_model import LinearRegression\n",
    "\n",
    "X,y =make_regression(n_features=5,noise=15,bias=10,random_state=1)"
   ]
  },
  {
   "cell_type": "code",
   "execution_count": 7,
   "metadata": {},
   "outputs": [
    {
     "data": {
      "text/plain": [
       "(100L, 5L)"
      ]
     },
     "execution_count": 7,
     "metadata": {},
     "output_type": "execute_result"
    }
   ],
   "source": [
    "X.shape"
   ]
  },
  {
   "cell_type": "code",
   "execution_count": 109,
   "metadata": {},
   "outputs": [],
   "source": [
    "class CusMultiLR:\n",
    "    def __init__(self,lr=0.01,iters=30):\n",
    "        self.lr=lr\n",
    "        self.iters=iters\n",
    "        \n",
    "    def fit(self,X,y):\n",
    "        ones=np.ones([X.shape[0],1])\n",
    "        X=np.hstack([ones,X])\n",
    "        self.theta_=np.random.randn(X.shape[1],1)\n",
    "        errors=[]\n",
    "        for i in range(self.iters):\n",
    "            error=self.gradient_decend(X,y)\n",
    "            errors.append(error)\n",
    "            return errors\n",
    "            \n",
    "    def gradient_decend(self,X,y):\n",
    "        delta_theta,error=self.gradient(X,y)\n",
    "        #print(delta_theta)\n",
    "        self.theta_ +=delta_theta\n",
    "        return error\n",
    "        \n",
    "    def gradient(self,X,y):\n",
    "        ya=y.reshape(-1,1)\n",
    "        yh=self.hypo(X)\n",
    "        dmsedt=np.dot(X.T,(yh-ya))/X.shape[0]\n",
    "        delta_theta= -dmsedt*self.lr\n",
    "        error=np.sum((yh-ya)**2)/X.shape[0]\n",
    "        return delta_theta,error\n",
    "        \n",
    "    def hypo(self,X):\n",
    "        return np.dot(X,self.theta_)\n",
    "        \n",
    "    def predict(self,X):\n",
    "        ones=np.ones([X.shape[0],1])\n",
    "        X=np.hstack([ones,X])\n",
    "        result= self.hypo(X)\n",
    "        return result.flatten()"
   ]
  },
  {
   "cell_type": "code",
   "execution_count": 125,
   "metadata": {},
   "outputs": [],
   "source": [
    "model=CusMultiLR(lr=0.8,iters=10)"
   ]
  },
  {
   "cell_type": "code",
   "execution_count": 126,
   "metadata": {},
   "outputs": [],
   "source": [
    "errors=model.fit(X,y)"
   ]
  },
  {
   "cell_type": "code",
   "execution_count": 127,
   "metadata": {},
   "outputs": [],
   "source": [
    "yh=model.predict(X)"
   ]
  },
  {
   "cell_type": "code",
   "execution_count": 128,
   "metadata": {},
   "outputs": [
    {
     "data": {
      "text/plain": [
       "array([  47.74288596,   89.77881161,  114.03746096,  -36.53390613,\n",
       "       -211.9912218 ,   31.04272299,   65.73313403,   49.56508718,\n",
       "         -5.73546888,   38.96741778])"
      ]
     },
     "execution_count": 128,
     "metadata": {},
     "output_type": "execute_result"
    }
   ],
   "source": [
    "yh[:10]"
   ]
  },
  {
   "cell_type": "code",
   "execution_count": 129,
   "metadata": {},
   "outputs": [
    {
     "data": {
      "text/plain": [
       "array([  43.5171099 ,   57.65141943,  123.08271761,  -43.37373343,\n",
       "       -247.57689921,    8.53711187,   41.42818339,   51.97005873,\n",
       "        -20.65603669,   57.77285488])"
      ]
     },
     "execution_count": 129,
     "metadata": {},
     "output_type": "execute_result"
    }
   ],
   "source": [
    "y[:10]"
   ]
  },
  {
   "cell_type": "code",
   "execution_count": null,
   "metadata": {},
   "outputs": [],
   "source": []
  },
  {
   "cell_type": "code",
   "execution_count": null,
   "metadata": {},
   "outputs": [],
   "source": []
  }
 ],
 "metadata": {
  "kernelspec": {
   "display_name": "Python 2",
   "language": "python",
   "name": "python2"
  },
  "language_info": {
   "codemirror_mode": {
    "name": "ipython",
    "version": 2
   },
   "file_extension": ".py",
   "mimetype": "text/x-python",
   "name": "python",
   "nbconvert_exporter": "python",
   "pygments_lexer": "ipython2",
   "version": "2.7.16"
  }
 },
 "nbformat": 4,
 "nbformat_minor": 2
}
